{
 "cells": [
  {
   "cell_type": "code",
   "execution_count": 91,
   "metadata": {
    "collapsed": true
   },
   "outputs": [],
   "source": [
    "import re\n",
    "import numpy as np\n",
    "import pandas as pd\n",
    "from scipy import sparse\n",
    "from datetime import datetime"
   ]
  },
  {
   "cell_type": "code",
   "execution_count": 2,
   "metadata": {
    "collapsed": true
   },
   "outputs": [],
   "source": [
    "from sklearn.linear_model import LogisticRegression\n",
    "from sklearn.ensemble import RandomForestClassifier\n",
    "from sklearn.svm import SVC\n",
    "\n",
    "from sklearn.feature_extraction.text import TfidfVectorizer\n",
    "\n",
    "from sklearn.model_selection import train_test_split\n",
    "\n",
    "from sklearn.metrics import log_loss, confusion_matrix\n",
    "\n",
    "from sklearn.feature_selection import SelectKBest, chi2, f_classif, mutual_info_classif"
   ]
  },
  {
   "cell_type": "code",
   "execution_count": 3,
   "metadata": {
    "collapsed": true
   },
   "outputs": [],
   "source": [
    "CLASSES = ['toxic', 'severe_toxic', 'obscene', 'threat', 'insult', 'identity_hate']"
   ]
  },
  {
   "cell_type": "code",
   "execution_count": 4,
   "metadata": {
    "collapsed": true
   },
   "outputs": [],
   "source": [
    "train = pd.read_csv('../input/train.csv')\n",
    "test = pd.read_csv('../input/test.csv')"
   ]
  },
  {
   "cell_type": "code",
   "execution_count": 5,
   "metadata": {
    "collapsed": true
   },
   "outputs": [],
   "source": [
    "# Tets data contains one NaN, so we have to reaplce it with something\n",
    "test.fillna(' ', inplace=True)"
   ]
  },
  {
   "cell_type": "code",
   "execution_count": 6,
   "metadata": {
    "collapsed": true
   },
   "outputs": [],
   "source": [
    "def normalize(text):\n",
    "    text = text.lower()\n",
    "    text = text.replace('\\n', ' ').replace('\\t', ' ')\n",
    "    text = re.sub('\\W', ' ', text)\n",
    "    text = re.sub('[^a-z]', ' ', text)\n",
    "    text = re.sub('\\s+', ' ', text)\n",
    "    text = text.strip()\n",
    "    return text"
   ]
  },
  {
   "cell_type": "code",
   "execution_count": 7,
   "metadata": {
    "collapsed": true
   },
   "outputs": [],
   "source": [
    "train['normalized'] = train.comment_text.map(normalize)\n",
    "test['normalized'] = test.comment_text.map(normalize)"
   ]
  },
  {
   "cell_type": "code",
   "execution_count": 81,
   "metadata": {
    "collapsed": true
   },
   "outputs": [],
   "source": [
    "vect_words = TfidfVectorizer(max_features=None, analyzer='word', ngram_range=(1, 1), max_df=0.1, min_df=10)\n",
    "vect_chars = TfidfVectorizer(max_features=None, analyzer='char', ngram_range=(1, 5), max_df=0.1, min_df=10)"
   ]
  },
  {
   "cell_type": "code",
   "execution_count": 82,
   "metadata": {
    "collapsed": true
   },
   "outputs": [],
   "source": [
    "# Creating features\n",
    "train_vec_words = vect_words.fit_transform(train.normalized)\n",
    "train_vec_chars = vect_chars.fit_transform(train.normalized)\n",
    "\n",
    "# Combine two different types of features into single sparse matrix\n",
    "train_vec = sparse.hstack([train_vec_words, train_vec_chars])"
   ]
  },
  {
   "cell_type": "code",
   "execution_count": 83,
   "metadata": {},
   "outputs": [
    {
     "data": {
      "text/plain": [
       "(95851, 170559)"
      ]
     },
     "execution_count": 83,
     "metadata": {},
     "output_type": "execute_result"
    }
   ],
   "source": [
    "train_vec.shape"
   ]
  },
  {
   "cell_type": "code",
   "execution_count": 84,
   "metadata": {
    "collapsed": true
   },
   "outputs": [],
   "source": [
    "X_train, X_val, y_train, y_val = train_test_split(train_vec, train[CLASSES], test_size=0.01)"
   ]
  },
  {
   "cell_type": "code",
   "execution_count": 85,
   "metadata": {},
   "outputs": [
    {
     "name": "stdout",
     "output_type": "stream",
     "text": [
      "Model for toxic trained\n",
      "Model for severe_toxic trained\n",
      "Model for obscene trained\n",
      "Model for threat trained\n",
      "Model for insult trained\n",
      "Model for identity_hate trained\n",
      "CPU times: user 1min 29s, sys: 900 ms, total: 1min 30s\n",
      "Wall time: 50.9 s\n"
     ]
    }
   ],
   "source": [
    "%%time\n",
    "models = {}\n",
    "feature_selector = {}\n",
    "for toxicity in CLASSES:\n",
    "    feature_selector[toxicity] = SelectKBest(chi2, k=20000).fit(X_train, y_train[toxicity])\n",
    "    m = LogisticRegression(C=3.0, class_weight=None)  \n",
    "    #m = RandomForestClassifier(n_estimators=40, \n",
    "    #                           max_depth=None, \n",
    "    #                           bootstrap=True,\n",
    "    #                           n_jobs=-1,\n",
    "    #                           verbose=1, \n",
    "    #                           warm_start=False, \n",
    "    #                           class_weight=None)\n",
    "    #m = SVC(C=1.0, \n",
    "    #        kernel=\"rbf\", \n",
    "    #        degree=3, \n",
    "    #        gamma=\"auto\", \n",
    "    #        coef0=0.0, \n",
    "    #        probability=True,\n",
    "    #        class_weight=None, \n",
    "    #        verbose=True)\n",
    "    m.fit(feature_selector[toxicity].transform(X_train), y_train[toxicity])\n",
    "    models[toxicity] = m\n",
    "    print(\"Model for %s trained\" % toxicity, flush=True)"
   ]
  },
  {
   "cell_type": "code",
   "execution_count": 86,
   "metadata": {
    "scrolled": true
   },
   "outputs": [
    {
     "name": "stdout",
     "output_type": "stream",
     "text": [
      "toxic\n",
      "0.1\n",
      "[[859   7]\n",
      " [ 28  65]]\n",
      "severe_toxic\n",
      "0.04\n",
      "[[941   5]\n",
      " [  9   4]]\n",
      "obscene\n",
      "0.05\n",
      "[[904   5]\n",
      " [ 12  38]]\n",
      "threat\n",
      "0.01\n",
      "[[955   0]\n",
      " [  4   0]]\n",
      "insult\n",
      "0.06\n",
      "[[905   4]\n",
      " [ 17  33]]\n",
      "identity_hate\n",
      "0.02\n",
      "[[950   1]\n",
      " [  6   2]]\n",
      "mean log-loss: 0.0466514011199\n"
     ]
    }
   ],
   "source": [
    "predictions = pd.DataFrame()\n",
    "loss = 0\n",
    "for toxicity in CLASSES:\n",
    "    predictions[toxicity] = models[toxicity].predict_proba(feature_selector[toxicity].transform(X_val))[:, 1]\n",
    "    print(toxicity)\n",
    "    ll = log_loss(y_val[toxicity], predictions[toxicity])\n",
    "    loss = loss + ll\n",
    "    print(ll.round(2))\n",
    "    print(confusion_matrix(y_val[toxicity], models[toxicity].predict(feature_selector[toxicity].transform(X_val))))\n",
    "print('mean log-loss: %s' % str(loss/6.))"
   ]
  },
  {
   "cell_type": "markdown",
   "metadata": {},
   "source": [
    "# predictions on the test set"
   ]
  },
  {
   "cell_type": "code",
   "execution_count": 87,
   "metadata": {
    "collapsed": true
   },
   "outputs": [],
   "source": [
    "Xtest_words = vect_words.transform(test.normalized)\n",
    "Xtest_chars = vect_chars.transform(test.normalized)\n",
    "\n",
    "Xtest = sparse.hstack([Xtest_words, Xtest_chars])"
   ]
  },
  {
   "cell_type": "code",
   "execution_count": 89,
   "metadata": {},
   "outputs": [],
   "source": [
    "predictions = pd.DataFrame(test.id)\n",
    "for toxicity in CLASSES:\n",
    "    predictions[toxicity] = models[toxicity].predict_proba(feature_selector[toxicity].transform(Xtest))[:, 1]"
   ]
  },
  {
   "cell_type": "code",
   "execution_count": 92,
   "metadata": {},
   "outputs": [],
   "source": [
    "predictions.to_csv(datetime.now().strftime('%Y%m%d%H%M')+'_submission.csv', index=False)"
   ]
  },
  {
   "cell_type": "code",
   "execution_count": null,
   "metadata": {
    "collapsed": true
   },
   "outputs": [],
   "source": []
  }
 ],
 "metadata": {
  "kernelspec": {
   "display_name": "Python 3",
   "language": "python",
   "name": "python3"
  },
  "language_info": {
   "codemirror_mode": {
    "name": "ipython",
    "version": 3
   },
   "file_extension": ".py",
   "mimetype": "text/x-python",
   "name": "python",
   "nbconvert_exporter": "python",
   "pygments_lexer": "ipython3",
   "version": "3.6.3"
  }
 },
 "nbformat": 4,
 "nbformat_minor": 2
}
