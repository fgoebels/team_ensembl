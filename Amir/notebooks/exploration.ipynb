{
 "cells": [
  {
   "cell_type": "code",
   "execution_count": 1,
   "metadata": {
    "collapsed": true
   },
   "outputs": [],
   "source": [
    "import re\n",
    "import numpy as np\n",
    "import pandas as pd\n",
    "from scipy import sparse"
   ]
  },
  {
   "cell_type": "code",
   "execution_count": 50,
   "metadata": {
    "collapsed": true
   },
   "outputs": [],
   "source": [
    "from sklearn.linear_model import LogisticRegression\n",
    "from sklearn.ensemble import RandomForestClassifier\n",
    "from sklearn.svm import SVC\n",
    "\n",
    "from sklearn.feature_extraction.text import TfidfVectorizer\n",
    "\n",
    "from sklearn.model_selection import train_test_split\n",
    "\n",
    "from sklearn.metrics import log_loss, confusion_matrix\n",
    "\n",
    "from sklearn.feature_selection import SelectKBest, chi2, f_classif, mutual_info_classif"
   ]
  },
  {
   "cell_type": "code",
   "execution_count": 3,
   "metadata": {
    "collapsed": true
   },
   "outputs": [],
   "source": [
    "CLASSES = ['toxic', 'severe_toxic', 'obscene', 'threat', 'insult', 'identity_hate']"
   ]
  },
  {
   "cell_type": "code",
   "execution_count": 4,
   "metadata": {
    "collapsed": true
   },
   "outputs": [],
   "source": [
    "train = pd.read_csv('../input/train.csv')\n",
    "test = pd.read_csv('../input/test.csv')"
   ]
  },
  {
   "cell_type": "code",
   "execution_count": 5,
   "metadata": {
    "collapsed": true
   },
   "outputs": [],
   "source": [
    "# Tets data contains one NaN, so we have to reaplce it with something\n",
    "test.fillna(' ', inplace=True)"
   ]
  },
  {
   "cell_type": "code",
   "execution_count": 13,
   "metadata": {
    "collapsed": true
   },
   "outputs": [],
   "source": [
    "def normalize(text):\n",
    "    text = text.lower()\n",
    "    text = text.replace('\\n', ' ').replace('\\t', ' ')\n",
    "    text = re.sub('\\W', ' ', text)\n",
    "    text = re.sub('[^a-z]', ' ', text)\n",
    "    text = re.sub('\\s+', ' ', text)\n",
    "    text = text.strip()\n",
    "    return text"
   ]
  },
  {
   "cell_type": "code",
   "execution_count": 14,
   "metadata": {
    "collapsed": true
   },
   "outputs": [],
   "source": [
    "train['normalized'] = train.comment_text.map(normalize)\n",
    "test['normalized'] = test.comment_text.map(normalize)"
   ]
  },
  {
   "cell_type": "code",
   "execution_count": 45,
   "metadata": {
    "collapsed": true
   },
   "outputs": [],
   "source": [
    "vect_words = TfidfVectorizer(max_features=None, analyzer='word', ngram_range=(1, 1), max_df=1.0, min_df=1)\n",
    "vect_chars = TfidfVectorizer(max_features=None, analyzer='char', ngram_range=(1, 5), max_df=1.0, min_df=1)"
   ]
  },
  {
   "cell_type": "code",
   "execution_count": 46,
   "metadata": {
    "collapsed": true
   },
   "outputs": [],
   "source": [
    "# Creating features\n",
    "train_vec_words = vect_words.fit_transform(train.normalized)\n",
    "train_vec_chars = vect_chars.fit_transform(train.normalized)\n",
    "\n",
    "# Combine two different types of features into single sparse matrix\n",
    "train_vec = sparse.hstack([train_vec_words, train_vec_chars])"
   ]
  },
  {
   "cell_type": "code",
   "execution_count": 47,
   "metadata": {},
   "outputs": [],
   "source": [
    "X_train, X_val, y_train, y_val = train_test_split(train_vec, train[CLASSES], test_size=0.33)"
   ]
  },
  {
   "cell_type": "code",
   "execution_count": null,
   "metadata": {},
   "outputs": [
    {
     "name": "stdout",
     "output_type": "stream",
     "text": [
      "Model for toxic trained\n",
      "Model for severe_toxic trained\n",
      "Model for obscene trained\n"
     ]
    }
   ],
   "source": [
    "%%time\n",
    "models = {}\n",
    "feature_selector = {}\n",
    "for toxicity in CLASSES:\n",
    "    feature_selector[toxicity] = SelectKBest(mutual_info_classif, k=1000).fit(X_train, y_train[toxicity])\n",
    "    m = LogisticRegression(C=3.0, class_weight=None)  \n",
    "    #m = RandomForestClassifier(n_estimators=40, \n",
    "    #                           max_depth=None, \n",
    "    #                           bootstrap=True,\n",
    "    #                           n_jobs=-1,\n",
    "    #                           verbose=1, \n",
    "    #                           warm_start=False, \n",
    "    #                           class_weight=None)\n",
    "    #m = SVC(C=1.0, \n",
    "    #        kernel=\"rbf\", \n",
    "    #        degree=3, \n",
    "    #        gamma=\"auto\", \n",
    "    #        coef0=0.0, \n",
    "    #        probability=True,\n",
    "    #        class_weight=None, \n",
    "    #        verbose=True)\n",
    "    m.fit(feature_selector[toxicity].transform(X_train), y_train[toxicity])\n",
    "    models[toxicity] = m\n",
    "    print(\"Model for %s trained\" % toxicity, flush=True)"
   ]
  },
  {
   "cell_type": "code",
   "execution_count": null,
   "metadata": {
    "scrolled": false
   },
   "outputs": [],
   "source": [
    "predictions = pd.DataFrame()\n",
    "loss = 0\n",
    "for toxicity in CLASSES:\n",
    "    predictions[toxicity] = models[toxicity].predict_proba(feature_selector[toxicity].transform(X_val))[:, 1]\n",
    "    print(toxicity)\n",
    "    ll = log_loss(y_val[toxicity], predictions[toxicity])\n",
    "    loss = loss + ll\n",
    "    print(ll.round(2))\n",
    "    print(confusion_matrix(y_val[toxicity], models[toxicity].predict(feature_selector[toxicity].transform(X_val))))\n",
    "print('mean log-loss: %s' % str(loss/6.))"
   ]
  },
  {
   "cell_type": "markdown",
   "metadata": {},
   "source": [
    "# predictions on the test set"
   ]
  },
  {
   "cell_type": "code",
   "execution_count": null,
   "metadata": {
    "collapsed": true
   },
   "outputs": [],
   "source": [
    "Xtest_words = vect_words.transform(test.normalized)\n",
    "Xtest_chars = vect_chars.transform(test.normalized)\n",
    "\n",
    "Xtest = sparse.hstack([Xtest_words, Xtest_chars])"
   ]
  },
  {
   "cell_type": "code",
   "execution_count": null,
   "metadata": {
    "collapsed": true
   },
   "outputs": [],
   "source": [
    "predictions = pd.DataFrame(test.id)\n",
    "for toxicity in CLASSES:\n",
    "    predictions[toxicity] = models[toxicity].predict_proba(Xtest)[:, 1]"
   ]
  },
  {
   "cell_type": "code",
   "execution_count": null,
   "metadata": {
    "collapsed": true
   },
   "outputs": [],
   "source": [
    "predictions.to_csv(datetime.datetime.now().strftime('%Y%m%d%H%M')+'_submission.csv', index=False)"
   ]
  },
  {
   "cell_type": "code",
   "execution_count": null,
   "metadata": {
    "collapsed": true
   },
   "outputs": [],
   "source": []
  }
 ],
 "metadata": {
  "kernelspec": {
   "display_name": "Python 3",
   "language": "python",
   "name": "python3"
  },
  "language_info": {
   "codemirror_mode": {
    "name": "ipython",
    "version": 3
   },
   "file_extension": ".py",
   "mimetype": "text/x-python",
   "name": "python",
   "nbconvert_exporter": "python",
   "pygments_lexer": "ipython3",
   "version": "3.6.3"
  }
 },
 "nbformat": 4,
 "nbformat_minor": 2
}
