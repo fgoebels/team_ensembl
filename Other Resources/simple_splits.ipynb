{
 "cells": [
  {
   "cell_type": "code",
   "execution_count": 8,
   "metadata": {},
   "outputs": [
    {
     "name": "stderr",
     "output_type": "stream",
     "text": [
      "/usr/local/lib/python3.5/dist-packages/ipykernel_launcher.py:35: SettingWithCopyWarning: \n",
      "A value is trying to be set on a copy of a slice from a DataFrame\n",
      "\n",
      "See the caveats in the documentation: http://pandas.pydata.org/pandas-docs/stable/indexing.html#indexing-view-versus-copy\n"
     ]
    }
   ],
   "source": [
    "import pandas as pd\n",
    "import numpy as np\n",
    "from sklearn.model_selection import StratifiedKFold\n",
    "\n",
    "train = pd.read_csv(\"./train_cleaned.csv\")\n",
    "list_classes = [\"toxic\", \"severe_toxic\", \"obscene\", \"threat\", \"insult\", \"identity_hate\"]\n",
    "\n",
    "y = train[list_classes].values\n",
    "\n",
    "#Stratify KFold by creating unique labels for ground truth values, toss things with less than num_folds into an 'others' label\n",
    "num_folds = 10\n",
    "truth_labels = np.unique(y,axis=0)\n",
    "\n",
    "truth_counts = np.zeros(truth_labels.shape[0],dtype=int)\n",
    "for j, tlab in enumerate(truth_labels):\n",
    "    truth_counts[j] = (y == tlab).all(-1).sum()\n",
    "\n",
    "other_label = truth_labels.shape[0]+1 #create a new label out of the index range for 'others'\n",
    "truth_encoded = []\n",
    "for row in y:\n",
    "    for j, truth_row in enumerate(truth_labels):\n",
    "        index_test = np.array_equal(row, truth_row)\n",
    "        if index_test:\n",
    "            if truth_counts[j]>=num_folds:\n",
    "                truth_encoded.append(j)\n",
    "            else:\n",
    "                truth_encoded.append(other_label)\n",
    "\n",
    "                \n",
    "kf = StratifiedKFold(n_splits=num_folds, random_state=42, shuffle=True)\n",
    "temp = pd.read_csv(\"./train_cleaned.csv\")\n",
    "temp.drop(['comment_text']+ list_classes,axis=1, inplace=True)\n",
    "temp['split'] = np.zeros(temp.shape[0],dtype=np.int32)\n",
    "for j, (train_index, val_index) in enumerate(kf.split(np.zeros(len(truth_encoded)), truth_encoded)):\n",
    "    temp['split'][val_index]=j\n",
    "temp.to_csv('splits.csv', index=False)"
   ]
  },
  {
   "cell_type": "code",
   "execution_count": null,
   "metadata": {
    "collapsed": true
   },
   "outputs": [],
   "source": []
  }
 ],
 "metadata": {
  "kernelspec": {
   "display_name": "Python 3",
   "language": "python",
   "name": "python3"
  },
  "language_info": {
   "codemirror_mode": {
    "name": "ipython",
    "version": 3
   },
   "file_extension": ".py",
   "mimetype": "text/x-python",
   "name": "python",
   "nbconvert_exporter": "python",
   "pygments_lexer": "ipython3",
   "version": "3.5.2"
  }
 },
 "nbformat": 4,
 "nbformat_minor": 2
}
