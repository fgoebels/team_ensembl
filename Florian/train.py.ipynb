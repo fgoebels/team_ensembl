{
 "cells": [
  {
   "cell_type": "code",
   "execution_count": 1,
   "metadata": {},
   "outputs": [
    {
     "name": "stderr",
     "output_type": "stream",
     "text": [
      "/home/ubuntu/anaconda2/lib/python2.7/site-packages/h5py/__init__.py:36: FutureWarning: Conversion of the second argument of issubdtype from `float` to `np.floating` is deprecated. In future, it will be treated as `np.float64 == np.dtype(float).type`.\n",
      "  from ._conv import register_converters as _register_converters\n",
      "Using TensorFlow backend.\n",
      "/home/ubuntu/anaconda2/lib/python2.7/site-packages/sklearn/cross_validation.py:41: DeprecationWarning: This module was deprecated in version 0.18 in favor of the model_selection module into which all the refactored classes and functions are moved. Also note that the interface of the new CV iterators are different from that of this module. This module will be removed in 0.20.\n",
      "  \"This module will be removed in 0.20.\", DeprecationWarning)\n"
     ]
    }
   ],
   "source": [
    "from keras.models import Sequential\n",
    "from keras.layers import Input, Dense, Dropout\n",
    "from  keras.layers.normalization import BatchNormalization\n",
    "from keras.optimizers import Adam\n",
    "import copy\n",
    "\n",
    "import sklearn.model_selection\n",
    "import numpy as np\n",
    "import pandas as pd\n",
    "from tqdm import tqdm\n",
    "\n",
    "from sklearn.feature_extraction.text import CountVectorizer, TfidfVectorizer\n",
    "from sklearn.cross_validation import train_test_split\n",
    "from sklearn.metrics import roc_auc_score\n",
    "\n",
    "from sklearn.linear_model import LogisticRegression\n",
    "from sklearn.svm import SVC"
   ]
  },
  {
   "cell_type": "code",
   "execution_count": 2,
   "metadata": {},
   "outputs": [],
   "source": [
    "train = pd.read_csv(\"./train_cleaned_no-stopwords.csv\")\n",
    "test = pd.read_csv(\"./test_cleaned_no-stopwords.csv\")\n",
    "list_sentences_train = train[\"comment_text\"].fillna(\"CVxTz\").values\n",
    "list_classes = [\"toxic\", \"severe_toxic\", \"obscene\", \"threat\", \"insult\", \"identity_hate\"]\n",
    "y = train[list_classes].values\n",
    "list_sentences_test = test[\"comment_text\"].fillna(\"CVxTz\").values"
   ]
  },
  {
   "cell_type": "code",
   "execution_count": 3,
   "metadata": {},
   "outputs": [
    {
     "name": "stdout",
     "output_type": "stream",
     "text": [
      "312735\n",
      "203883\n"
     ]
    },
    {
     "name": "stderr",
     "output_type": "stream",
     "text": [
      "  6%|▌         | 9153/159571 [00:00<00:01, 91526.16it/s]"
     ]
    },
    {
     "name": "stdout",
     "output_type": "stream",
     "text": [
      "101897\n"
     ]
    },
    {
     "name": "stderr",
     "output_type": "stream",
     "text": [
      "100%|██████████| 159571/159571 [00:01<00:00, 93181.06it/s]\n",
      "100%|██████████| 153164/153164 [00:01<00:00, 98876.98it/s] \n"
     ]
    }
   ],
   "source": [
    "def count_words(corpus):\n",
    "    word_counts = {}\n",
    "    for sentence in corpus:\n",
    "        for word in set(sentence.split()):\n",
    "                if word not in word_counts: word_counts[word] = 0\n",
    "                word_counts[word] += 1\n",
    "    return word_counts\n",
    "\n",
    "def remove_low_freq_words(text, val_w):\n",
    "    text = set(text.split())\n",
    "    text = list(text & val_w)\n",
    "    if len(text) == 0:\n",
    "        text = [\"CVxTz\"]\n",
    "    text = \" \".join(text)    \n",
    "    return text\n",
    "        \n",
    "all_text = list(list_sentences_train) + list(list_sentences_test)\n",
    "print len(all_text)\n",
    "word_counts = count_words(all_text)\n",
    "print len(word_counts)\n",
    "\n",
    "val_words = set()\n",
    "for k, v in word_counts.items():\n",
    "    if v > 1:\n",
    "        val_words.add(k)\n",
    "print(len(val_words))\n",
    "list_sentences_f_train  = [\"CVxTz\"] * len(list_sentences_train)\n",
    "list_sentences_f_test   = [\"CVxTz\"] * len(list_sentences_test)\n",
    "\n",
    "for i in tqdm(range(len(list_sentences_train))):\n",
    "    list_sentences_f_train[i] = remove_low_freq_words(list_sentences_train[i], val_words)\n",
    "\n",
    "for i in tqdm(range(len(list_sentences_test))):\n",
    "    list_sentences_f_test[i] = remove_low_freq_words(list_sentences_test[i], val_words)"
   ]
  },
  {
   "cell_type": "code",
   "execution_count": 4,
   "metadata": {},
   "outputs": [],
   "source": [
    "def tokenize(s): return s.split(\" \")\n",
    "\n",
    "vec = TfidfVectorizer(ngram_range=(1,2), tokenizer=tokenize,\n",
    "               min_df=3, max_df=0.9, strip_accents='unicode', use_idf=1,\n",
    "               smooth_idf=1, sublinear_tf=1 )\n",
    "\n",
    "train_tfidf = vec.fit_transform(list_sentences_f_train)\n",
    "test_tfidf = vec.transform(list_sentences_f_test)"
   ]
  },
  {
   "cell_type": "code",
   "execution_count": 5,
   "metadata": {},
   "outputs": [],
   "source": [
    "def batch_generator(X, y, batch_size, shuffle):\n",
    "    number_of_batches = X.shape[0]/batch_size\n",
    "    counter = 0\n",
    "    sample_index = np.arange(X.shape[0])\n",
    "    if shuffle:\n",
    "        np.random.shuffle(sample_index)\n",
    "    while True:\n",
    "        batch_index = sample_index[batch_size*counter:batch_size*(counter+1)]\n",
    "        X_batch = X[batch_index,:].toarray()\n",
    "        y_batch = y[batch_index]\n",
    "        counter += 1\n",
    "        yield X_batch, y_batch\n",
    "        if (counter == number_of_batches):\n",
    "            if shuffle:\n",
    "                np.random.shuffle(sample_index)\n",
    "            counter = 0"
   ]
  },
  {
   "cell_type": "code",
   "execution_count": 6,
   "metadata": {},
   "outputs": [],
   "source": [
    "class nn:\n",
    "    \n",
    "        \n",
    "    def __init__(self):\n",
    "        self.models = []\n",
    "    \n",
    "    def get_mdl(self, X, y):\n",
    "        adam = Adam(lr=0.001)\n",
    "        model = Sequential()\n",
    "        model.add(BatchNormalization(input_shape=(X.shape[1],)))\n",
    "        model.add(Dense(2, activation='sigmoid'))\n",
    "        model.add(Dropout(rate=0.6))\n",
    "        model.add(Dense(2, activation='sigmoid'))\n",
    "        model.add(Dropout(rate=0.6))\n",
    "        #self.model.add(Dense(2048, activation='sigmoid'))\n",
    "        #self.model.add(Dropout(rate=0.6))\n",
    "        #self.model.add(Dense(2048, activation='sigmoid'))\n",
    "        #self.model.add(Dropout(rate=0.6))\n",
    "        if len(y.shape) > 1:\n",
    "            model.add(Dense(y.shape[1], activation='sigmoid'))\n",
    "            model.compile(loss=\"categorical_crossentropy\", optimizer=adam, metrics=[\"accuracy\"])\n",
    "        else:\n",
    "            model.add(Dense(1, activation='sigmoid'))\n",
    "            model.compile(loss=\"binary_crossentropy\", optimizer=adam, metrics=[\"accuracy\"])\n",
    "\n",
    "        #print(self.model.summary())\n",
    "        batch_size = 512\n",
    "        model.fit_generator(generator=batch_generator(X, y, batch_size, True),\n",
    "                            nb_epoch=1,\n",
    "                            samples_per_epoch=X.shape[0]/batch_size)\n",
    "        return model\n",
    "\n",
    "    def fit(self, X, y):\n",
    "        if len(y.shape)>1:\n",
    "            for i in range(y.shape[1]):\n",
    "                m = self.get_mdl(X, y[:,i])\n",
    "                self.models.append((m))\n",
    "        else:\n",
    "            m = self.get_mdl(X, y)\n",
    "            self.models.append((m))\n",
    "        \n",
    "    def predict(self, X):\n",
    "        preds = np.zeros((X.shape[0], len(self.models)))\n",
    "        for i in range(len(self.models)):\n",
    "            m = self.models[i]\n",
    "            preds[:,i] = m.predict(X).flatten()\n",
    "        return preds"
   ]
  },
  {
   "cell_type": "code",
   "execution_count": 7,
   "metadata": {},
   "outputs": [],
   "source": [
    "class NB_LR:\n",
    "    \n",
    "    def __init__(self):\n",
    "        self.models = []\n",
    "        self.r  =[]\n",
    "    \n",
    "    def pr(self, x, y_i, y):\n",
    "        p = x[y==y_i].sum(0)\n",
    "        return (p+1) / ((y==y_i).sum()+1)\n",
    "\n",
    "    def get_mdl(self, X, y):\n",
    "        #y = y.values\n",
    "        r = np.log(self.pr(X, 1,y) / self.pr(X, 0,y))\n",
    "        m = LogisticRegression(C=10, dual=True)\n",
    "        #m = SVC(kernel='sigmoid', probability = True)\n",
    "        x_nb = X.multiply(r)\n",
    "        return m.fit(x_nb, y), r\n",
    "    \n",
    "    def fit(self, X, y):\n",
    "        if len(y.shape)>1:\n",
    "            for i in range(y.shape[1]):\n",
    "                m,r = self.get_mdl(X, y[:,i])\n",
    "                self.models.append((m, r))\n",
    "        else:\n",
    "            m,r = self.get_mdl(X, y)\n",
    "            self.models.append((m, r))\n",
    "        \n",
    "    def predict(self, X):\n",
    "        preds = np.zeros((X.shape[0], len(self.models)))\n",
    "        for i in range(len(self.models)):\n",
    "            m = self.models[i]\n",
    "            preds[:,i] = m.predict_proba(X.multiply(r))[:,1]\n",
    "        return preds\n"
   ]
  },
  {
   "cell_type": "code",
   "execution_count": 8,
   "metadata": {},
   "outputs": [],
   "source": [
    "X_train, X_val, y_train, y_val = train_test_split(train_tfidf, y, test_size=0.33)\n",
    "#thisnn = nn()\n",
    "#print(X_train.shape)\n",
    "#thisnn.fit(X_train, y_train)"
   ]
  },
  {
   "cell_type": "code",
   "execution_count": 9,
   "metadata": {},
   "outputs": [],
   "source": [
    "class stepwise_clf:\n",
    "    \n",
    "    \n",
    "    def __init__(self, y):\n",
    "        self.y_all = y\n",
    "        self.y_toxic_or_not = y.max(axis=1)\n",
    "        self.toxic_row_indices = list(np.where(self.y_toxic_or_not==1)[0])\n",
    "        \n",
    "    def fit(self, model, X):\n",
    "        self.model_all = model()\n",
    "        self.model_toxic_or_not = model()\n",
    "#        self.model_only_toxic = model()\n",
    "        print \"fitting all\"\n",
    "        self.model_all.fit(X, self.y_all)\n",
    "#        print \"fitting only toxic\"\n",
    " #       self.model_only_toxic.fit(X[self.toxic_row_indices,], self.y_all[self.toxic_row_indices,])\n",
    "        print \"fitting toxic or not\"\n",
    "        self.model_toxic_or_not.fit(X, self.y_toxic_or_not)\n",
    "        \n",
    "    def predict(self, X):\n",
    "#        return (self.model_all.predict(X), self.model_only_toxic.predict(X), self.model_toxic_or_not.predict(X))\n",
    "        return (self.model_all.predict(X), self.model_toxic_or_not.predict(X))\n",
    "\n",
    "    def save_models(self, outdir):\n",
    "        self.model_all.model.save(outdir + \"nn_all.h5\")\n",
    "        self.model_toxic_or_not.model.save(outdir + \"nn_toxic_or_not.h5\")\n",
    "#        self.model_only_toxic.model.save(outdir + \"nn_only_toxic.h5\")"
   ]
  },
  {
   "cell_type": "code",
   "execution_count": 10,
   "metadata": {},
   "outputs": [],
   "source": [
    "class LR:\n",
    "    \n",
    "    def __init__(self):\n",
    "        self.models = []\n",
    "\n",
    "    def get_mdl(self, X, y):\n",
    "        m = LogisticRegression(C=10, dual=True)\n",
    "        return m.fit(X, y)\n",
    "    \n",
    "    def fit(self, X, y):\n",
    "        if len(y.shape)>1:\n",
    "            for i in range(y.shape[1]):\n",
    "                m = self.get_mdl(X, y[:,i])\n",
    "                self.models.append((m))\n",
    "        else:\n",
    "            m = self.get_mdl(X, y)\n",
    "            self.models.append((m))\n",
    "        \n",
    "    def predict(self, X):\n",
    "        preds = np.zeros((X.shape[0], len(self.models)))\n",
    "        for i in range(len(self.models)):\n",
    "            m = self.models[i]\n",
    "            preds[:,i] = m.predict_proba(X)[:,1]\n",
    "        return preds\n"
   ]
  },
  {
   "cell_type": "code",
   "execution_count": 23,
   "metadata": {
    "scrolled": false
   },
   "outputs": [
    {
     "name": "stdout",
     "output_type": "stream",
     "text": [
      "fitting all\n",
      "fitting toxic or not\n"
     ]
    }
   ],
   "source": [
    "setwiser = stepwise_clf(y_train)\n",
    "setwiser.fit(NB_LR, X_train)"
   ]
  },
  {
   "cell_type": "code",
   "execution_count": 37,
   "metadata": {},
   "outputs": [],
   "source": [
    "setwiser.save_models(\"/home/ubuntu/kaggle/toxicity/team_ensembl/Florian/\")"
   ]
  },
  {
   "cell_type": "code",
   "execution_count": null,
   "metadata": {},
   "outputs": [],
   "source": [
    "X_train[list(np.where(y_train.max(axis=1)==1)[0]),]"
   ]
  },
  {
   "cell_type": "code",
   "execution_count": null,
   "metadata": {},
   "outputs": [],
   "source": [
    "tmp = y_train.max(axis=1)\n",
    "tmp[1:20]"
   ]
  },
  {
   "cell_type": "code",
   "execution_count": null,
   "metadata": {},
   "outputs": [],
   "source": [
    "y_train[0:20,]"
   ]
  },
  {
   "cell_type": "code",
   "execution_count": 59,
   "metadata": {},
   "outputs": [
    {
     "name": "stdout",
     "output_type": "stream",
     "text": [
      "0.9749131178039706\n"
     ]
    }
   ],
   "source": [
    "pred_all_val, _, _ = setwiser.predict(X_val)\n",
    "print(roc_auc_score(y_val, pred_all_val))"
   ]
  },
  {
   "cell_type": "code",
   "execution_count": 83,
   "metadata": {},
   "outputs": [],
   "source": [
    "X_val_lvl1 = list(setwiser.predict(X_val))\n",
    "X_train_lvl1 = list(setwiser.predict(X_train))"
   ]
  },
  {
   "cell_type": "code",
   "execution_count": 90,
   "metadata": {},
   "outputs": [
    {
     "data": {
      "text/plain": [
       "array([0])"
      ]
     },
     "execution_count": 90,
     "metadata": {},
     "output_type": "execute_result"
    }
   ],
   "source": [
    "sel = np.array([1,0,0])\n",
    "np.where(sel==1)[0]"
   ]
  },
  {
   "cell_type": "code",
   "execution_count": 103,
   "metadata": {},
   "outputs": [
    {
     "name": "stdout",
     "output_type": "stream",
     "text": [
      "(106912, 6)\n",
      "(52659, 6)\n",
      "0.975814284462718\n",
      "(106912, 6)\n",
      "(52659, 6)\n",
      "0.9393553331091504\n",
      "(106912, 1)\n",
      "(52659, 1)\n",
      "0.9716189388852837\n",
      "(106912, 12)\n",
      "(52659, 12)\n",
      "0.956282528779225\n",
      "(106912, 7)\n",
      "(52659, 7)\n",
      "0.9755058500225573\n",
      "(106912, 13)\n",
      "(52659, 13)\n",
      "0.9579008327742425\n"
     ]
    }
   ],
   "source": [
    "for sel in [[1,0,0],[0,1,0],[0,0,1],[1,1,0],[1,0,1],[1,1,1]]:\n",
    "    sel = np.array(sel)\n",
    "    X_train_stacked = sparse.csr_matrix(np.column_stack([X_train_lvl1[i]  for i in np.where(sel==1)[0]]))\n",
    "    X_val_stacked = sparse.csr_matrix(np.column_stack([X_val_lvl1[i]  for i in np.where(sel==1)[0]]))\n",
    "\n",
    "    print(X_train_stacked.shape)\n",
    "    print(X_val_stacked.shape)\n",
    "\n",
    "    from scipy import sparse\n",
    "    l = LogisticRegression(C=10, dual=True)\n",
    "    lr = LR()\n",
    "    lr.fit(X_train_stacked, y_train)\n",
    "    pred = lr.predict(X_val_stacked)\n",
    "    print(roc_auc_score(y_val, pred))"
   ]
  },
  {
   "cell_type": "code",
   "execution_count": 11,
   "metadata": {},
   "outputs": [
    {
     "name": "stdout",
     "output_type": "stream",
     "text": [
      "fitting all\n"
     ]
    },
    {
     "name": "stderr",
     "output_type": "stream",
     "text": [
      "/home/ubuntu/anaconda2/lib/python2.7/site-packages/ipykernel/__main__.py:30: UserWarning: The semantics of the Keras 2 argument `steps_per_epoch` is not the same as the Keras 1 argument `samples_per_epoch`. `steps_per_epoch` is the number of batches to draw from the generator at each epoch. Basically steps_per_epoch = samples_per_epoch/batch_size. Similarly `nb_val_samples`->`validation_steps` and `val_samples`->`steps` arguments have changed. Update your method calls accordingly.\n",
      "/home/ubuntu/anaconda2/lib/python2.7/site-packages/ipykernel/__main__.py:30: UserWarning: Update your `fit_generator` call to the Keras 2 API: `fit_generator(epochs=1, steps_per_epoch=208, generator=<generator...)`\n"
     ]
    },
    {
     "name": "stdout",
     "output_type": "stream",
     "text": [
      "Epoch 1/1\n",
      "208/208 [==============================] - 143s 685ms/step - loss: 0.4540 - acc: 0.9031\n",
      "Epoch 1/1\n",
      "208/208 [==============================] - 139s 669ms/step - loss: 0.4644 - acc: 0.9159\n",
      "Epoch 1/1\n",
      "208/208 [==============================] - 140s 674ms/step - loss: 0.5612 - acc: 0.7929\n",
      "Epoch 1/1\n",
      "208/208 [==============================] - 140s 672ms/step - loss: 0.5596 - acc: 0.8792\n",
      "Epoch 1/1\n",
      "208/208 [==============================] - 138s 664ms/step - loss: 0.8042 - acc: 0.6130\n",
      "Epoch 1/1\n",
      "208/208 [==============================] - 139s 671ms/step - loss: 0.6861 - acc: 0.6739\n",
      "fitting toxic or not\n",
      "Epoch 1/1\n",
      "208/208 [==============================] - 141s 679ms/step - loss: 0.5426 - acc: 0.7606\n"
     ]
    }
   ],
   "source": [
    "setwiser_nn = stepwise_clf(y_train)\n",
    "setwiser_nn.fit(nn, X_train)"
   ]
  },
  {
   "cell_type": "code",
   "execution_count": 12,
   "metadata": {},
   "outputs": [],
   "source": [
    "tmp = setwiser_nn.model_all.predict(X_val)"
   ]
  },
  {
   "cell_type": "code",
   "execution_count": 13,
   "metadata": {},
   "outputs": [
    {
     "data": {
      "text/plain": [
       "array([[0.17767881, 0.25328243, 0.2895647 , 0.35339016, 0.45781237,\n",
       "        0.45184532],\n",
       "       [0.17767884, 0.25328243, 0.29105347, 0.35339016, 0.45781237,\n",
       "        0.45184532],\n",
       "       [0.17767887, 0.25328243, 0.2928071 , 0.35339016, 0.45781237,\n",
       "        0.45184532],\n",
       "       ...,\n",
       "       [0.1776789 , 0.25328243, 0.28967503, 0.35339016, 0.45781237,\n",
       "        0.45184532],\n",
       "       [0.17767881, 0.25328243, 0.29013598, 0.35339016, 0.45781237,\n",
       "        0.45184532],\n",
       "       [0.17767887, 0.25328243, 0.29073977, 0.35339016, 0.45781237,\n",
       "        0.45184532]])"
      ]
     },
     "execution_count": 13,
     "metadata": {},
     "output_type": "execute_result"
    }
   ],
   "source": [
    "tmp"
   ]
  },
  {
   "cell_type": "code",
   "execution_count": null,
   "metadata": {},
   "outputs": [],
   "source": []
  },
  {
   "cell_type": "code",
   "execution_count": 38,
   "metadata": {},
   "outputs": [],
   "source": [
    "preds = np.zeros((len(list(tmp.flatten())), 6))\n",
    "preds[:,0]  = tmp.flatten()"
   ]
  },
  {
   "cell_type": "code",
   "execution_count": 14,
   "metadata": {},
   "outputs": [
    {
     "ename": "NameError",
     "evalue": "name 'sparse' is not defined",
     "output_type": "error",
     "traceback": [
      "\u001b[0;31m---------------------------------------------------------------------------\u001b[0m",
      "\u001b[0;31mNameError\u001b[0m                                 Traceback (most recent call last)",
      "\u001b[0;32m<ipython-input-14-3fb237dd76dd>\u001b[0m in \u001b[0;36m<module>\u001b[0;34m()\u001b[0m\n\u001b[1;32m      5\u001b[0m \u001b[0;32mfor\u001b[0m \u001b[0msel\u001b[0m \u001b[0;32min\u001b[0m \u001b[0;34m[\u001b[0m\u001b[0;34m[\u001b[0m\u001b[0;36m1\u001b[0m\u001b[0;34m,\u001b[0m\u001b[0;36m0\u001b[0m\u001b[0;34m]\u001b[0m\u001b[0;34m,\u001b[0m\u001b[0;34m[\u001b[0m\u001b[0;36m0\u001b[0m\u001b[0;34m,\u001b[0m\u001b[0;36m1\u001b[0m\u001b[0;34m]\u001b[0m\u001b[0;34m,\u001b[0m\u001b[0;34m[\u001b[0m\u001b[0;36m1\u001b[0m\u001b[0;34m,\u001b[0m\u001b[0;36m1\u001b[0m\u001b[0;34m]\u001b[0m\u001b[0;34m]\u001b[0m\u001b[0;34m:\u001b[0m\u001b[0;34m\u001b[0m\u001b[0m\n\u001b[1;32m      6\u001b[0m     \u001b[0msel\u001b[0m \u001b[0;34m=\u001b[0m \u001b[0mnp\u001b[0m\u001b[0;34m.\u001b[0m\u001b[0marray\u001b[0m\u001b[0;34m(\u001b[0m\u001b[0msel\u001b[0m\u001b[0;34m)\u001b[0m\u001b[0;34m\u001b[0m\u001b[0m\n\u001b[0;32m----> 7\u001b[0;31m     \u001b[0mX_train_stacked\u001b[0m \u001b[0;34m=\u001b[0m \u001b[0msparse\u001b[0m\u001b[0;34m.\u001b[0m\u001b[0mcsr_matrix\u001b[0m\u001b[0;34m(\u001b[0m\u001b[0mnp\u001b[0m\u001b[0;34m.\u001b[0m\u001b[0mcolumn_stack\u001b[0m\u001b[0;34m(\u001b[0m\u001b[0;34m[\u001b[0m\u001b[0mX_train_lvl1\u001b[0m\u001b[0;34m[\u001b[0m\u001b[0mi\u001b[0m\u001b[0;34m]\u001b[0m  \u001b[0;32mfor\u001b[0m \u001b[0mi\u001b[0m \u001b[0;32min\u001b[0m \u001b[0mnp\u001b[0m\u001b[0;34m.\u001b[0m\u001b[0mwhere\u001b[0m\u001b[0;34m(\u001b[0m\u001b[0msel\u001b[0m\u001b[0;34m==\u001b[0m\u001b[0;36m1\u001b[0m\u001b[0;34m)\u001b[0m\u001b[0;34m[\u001b[0m\u001b[0;36m0\u001b[0m\u001b[0;34m]\u001b[0m\u001b[0;34m]\u001b[0m\u001b[0;34m)\u001b[0m\u001b[0;34m)\u001b[0m\u001b[0;34m\u001b[0m\u001b[0m\n\u001b[0m\u001b[1;32m      8\u001b[0m     \u001b[0mX_val_stacked\u001b[0m \u001b[0;34m=\u001b[0m \u001b[0msparse\u001b[0m\u001b[0;34m.\u001b[0m\u001b[0mcsr_matrix\u001b[0m\u001b[0;34m(\u001b[0m\u001b[0mnp\u001b[0m\u001b[0;34m.\u001b[0m\u001b[0mcolumn_stack\u001b[0m\u001b[0;34m(\u001b[0m\u001b[0;34m[\u001b[0m\u001b[0mX_val_lvl1\u001b[0m\u001b[0;34m[\u001b[0m\u001b[0mi\u001b[0m\u001b[0;34m]\u001b[0m  \u001b[0;32mfor\u001b[0m \u001b[0mi\u001b[0m \u001b[0;32min\u001b[0m \u001b[0mnp\u001b[0m\u001b[0;34m.\u001b[0m\u001b[0mwhere\u001b[0m\u001b[0;34m(\u001b[0m\u001b[0msel\u001b[0m\u001b[0;34m==\u001b[0m\u001b[0;36m1\u001b[0m\u001b[0;34m)\u001b[0m\u001b[0;34m[\u001b[0m\u001b[0;36m0\u001b[0m\u001b[0;34m]\u001b[0m\u001b[0;34m]\u001b[0m\u001b[0;34m)\u001b[0m\u001b[0;34m)\u001b[0m\u001b[0;34m\u001b[0m\u001b[0m\n\u001b[1;32m      9\u001b[0m \u001b[0;34m\u001b[0m\u001b[0m\n",
      "\u001b[0;31mNameError\u001b[0m: name 'sparse' is not defined"
     ]
    }
   ],
   "source": [
    "X_val_lvl1 = list(setwiser_nn.predict(X_val))\n",
    "X_train_lvl1 = list(setwiser_nn.predict(X_train))\n",
    "\n",
    "#for sel in [[1,0,0],[0,1,0],[0,0,1],[1,1,0],[1,0,1],[1,1,1]]:\n",
    "for sel in [[1,0],[0,1],[1,1]]:\n",
    "    sel = np.array(sel)\n",
    "    X_train_stacked = sparse.csr_matrix(np.column_stack([X_train_lvl1[i]  for i in np.where(sel==1)[0]]))\n",
    "    X_val_stacked = sparse.csr_matrix(np.column_stack([X_val_lvl1[i]  for i in np.where(sel==1)[0]]))\n",
    "\n",
    "    print(X_train_stacked.shape)\n",
    "    print(X_val_stacked.shape)\n",
    "\n",
    "    from scipy import sparse\n",
    "    l = LogisticRegression(C=10, dual=True)\n",
    "    lr = LR()\n",
    "    lr.fit(X_train_stacked, y_train)\n",
    "    pred = lr.predict(X_val_stacked)\n",
    "    print(roc_auc_score(y_val, pred))"
   ]
  },
  {
   "cell_type": "code",
   "execution_count": 15,
   "metadata": {},
   "outputs": [
    {
     "data": {
      "text/plain": [
       "[array([[0.17767881, 0.25328243, 0.2895647 , 0.35339016, 0.45781237,\n",
       "         0.45184532],\n",
       "        [0.17767884, 0.25328243, 0.29105347, 0.35339016, 0.45781237,\n",
       "         0.45184532],\n",
       "        [0.17767887, 0.25328243, 0.2928071 , 0.35339016, 0.45781237,\n",
       "         0.45184532],\n",
       "        ...,\n",
       "        [0.1776789 , 0.25328243, 0.28967503, 0.35339016, 0.45781237,\n",
       "         0.45184532],\n",
       "        [0.17767881, 0.25328243, 0.29013598, 0.35339016, 0.45781237,\n",
       "         0.45184532],\n",
       "        [0.17767887, 0.25328243, 0.29073977, 0.35339016, 0.45781237,\n",
       "         0.45184532]]), array([[0.27818397],\n",
       "        [0.27673677],\n",
       "        [0.33326322],\n",
       "        ...,\n",
       "        [0.27240846],\n",
       "        [0.25693822],\n",
       "        [0.31539443]])]"
      ]
     },
     "execution_count": 15,
     "metadata": {},
     "output_type": "execute_result"
    }
   ],
   "source": [
    "X_val_lvl1"
   ]
  },
  {
   "cell_type": "code",
   "execution_count": 16,
   "metadata": {},
   "outputs": [
    {
     "name": "stdout",
     "output_type": "stream",
     "text": [
      "(106912, 6)\n",
      "(52659, 6)\n",
      "0.8655980142852702\n",
      "(106912, 1)\n",
      "(52659, 1)\n",
      "0.9347554027827312\n",
      "(106912, 7)\n",
      "(52659, 7)\n",
      "0.9348410781206321\n"
     ]
    }
   ],
   "source": [
    "#for sel in [[1,0,0],[0,1,0],[0,0,1],[1,1,0],[1,0,1],[1,1,1]]:\n",
    "for sel in [[1,0],[0,1],[1,1]]:\n",
    "    sel = np.array(sel)\n",
    "    X_train_stacked = np.column_stack([X_train_lvl1[i]  for i in np.where(sel==1)[0]])\n",
    "    X_val_stacked = np.column_stack([X_val_lvl1[i]  for i in np.where(sel==1)[0]])\n",
    "\n",
    "    print(X_train_stacked.shape)\n",
    "    print(X_val_stacked.shape)\n",
    "\n",
    "    from scipy import sparse\n",
    "    l = LogisticRegression(C=10, dual=True)\n",
    "    lr = LR()\n",
    "    lr.fit(X_train_stacked, y_train)\n",
    "    pred = lr.predict(X_val_stacked)\n",
    "    print(roc_auc_score(y_val, pred))"
   ]
  },
  {
   "cell_type": "code",
   "execution_count": 103,
   "metadata": {},
   "outputs": [
    {
     "name": "stdout",
     "output_type": "stream",
     "text": [
      "(106912, 6)\n",
      "(52659, 6)\n",
      "0.975814284462718\n",
      "(106912, 6)\n",
      "(52659, 6)\n",
      "0.9393553331091504\n",
      "(106912, 1)\n",
      "(52659, 1)\n",
      "0.9716189388852837\n",
      "(106912, 12)\n",
      "(52659, 12)\n",
      "0.956282528779225\n",
      "(106912, 7)\n",
      "(52659, 7)\n",
      "0.9755058500225573\n",
      "(106912, 13)\n",
      "(52659, 13)\n",
      "0.9579008327742425\n"
     ]
    }
   ],
   "source": [
    "for sel in [[1,0,0],[0,1,0],[0,0,1],[1,1,0],[1,0,1],[1,1,1]]:\n",
    "    sel = np.array(sel)\n",
    "    X_train_stacked = sparse.csr_matrix(np.column_stack([X_train_lvl1[i]  for i in np.where(sel==1)[0]]))\n",
    "    X_val_stacked = sparse.csr_matrix(np.column_stack([X_val_lvl1[i]  for i in np.where(sel==1)[0]]))\n",
    "\n",
    "    print(X_train_stacked.shape)\n",
    "    print(X_val_stacked.shape)\n",
    "\n",
    "    from scipy import sparse\n",
    "    l = LogisticRegression(C=10, dual=True)\n",
    "    lr = LR()\n",
    "    lr.fit(X_train_stacked, y_train)\n",
    "    pred = lr.predict(X_val_stacked)\n",
    "    print(roc_auc_score(y_val, pred))"
   ]
  }
 ],
 "metadata": {
  "kernelspec": {
   "display_name": "Python [default]",
   "language": "python",
   "name": "python2"
  },
  "language_info": {
   "codemirror_mode": {
    "name": "ipython",
    "version": 2
   },
   "file_extension": ".py",
   "mimetype": "text/x-python",
   "name": "python",
   "nbconvert_exporter": "python",
   "pygments_lexer": "ipython2",
   "version": "2.7.14"
  }
 },
 "nbformat": 4,
 "nbformat_minor": 2
}
