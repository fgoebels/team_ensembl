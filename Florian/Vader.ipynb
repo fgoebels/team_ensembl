{
 "cells": [
  {
   "cell_type": "code",
   "execution_count": 1,
   "metadata": {},
   "outputs": [
    {
     "name": "stderr",
     "output_type": "stream",
     "text": [
      "/home/ubuntu/anaconda2/lib/python2.7/site-packages/h5py/__init__.py:36: FutureWarning: Conversion of the second argument of issubdtype from `float` to `np.floating` is deprecated. In future, it will be treated as `np.float64 == np.dtype(float).type`.\n",
      "  from ._conv import register_converters as _register_converters\n",
      "Using TensorFlow backend.\n",
      "/home/ubuntu/anaconda2/lib/python2.7/site-packages/sklearn/cross_validation.py:41: DeprecationWarning: This module was deprecated in version 0.18 in favor of the model_selection module into which all the refactored classes and functions are moved. Also note that the interface of the new CV iterators are different from that of this module. This module will be removed in 0.20.\n",
      "  \"This module will be removed in 0.20.\", DeprecationWarning)\n"
     ]
    }
   ],
   "source": [
    "from keras.models import Sequential\n",
    "from keras.layers import Input, Dense, Dropout\n",
    "from  keras.layers.normalization import BatchNormalization\n",
    "from keras.optimizers import Adam\n",
    "import copy\n",
    "\n",
    "import sklearn.model_selection\n",
    "import numpy as np\n",
    "import pandas as pd\n",
    "from tqdm import tqdm\n",
    "\n",
    "from sklearn.feature_extraction.text import CountVectorizer, TfidfVectorizer\n",
    "from sklearn.cross_validation import train_test_split\n",
    "from sklearn.metrics import roc_auc_score\n",
    "\n",
    "from sklearn.linear_model import LogisticRegression\n",
    "from sklearn.svm import SVC"
   ]
  },
  {
   "cell_type": "code",
   "execution_count": 2,
   "metadata": {},
   "outputs": [],
   "source": [
    "train = pd.read_csv(\"./train_cleaned_unfiltered.csv\")\n",
    "test = pd.read_csv(\"./test_cleaned_unfiltered.csv\")\n",
    "list_sentences_train = train[\"comment_text\"].fillna(\"CVxTz\").values\n",
    "list_classes = [\"toxic\", \"severe_toxic\", \"obscene\", \"threat\", \"insult\", \"identity_hate\"]\n",
    "y = train[list_classes].values\n",
    "list_sentences_test = test[\"comment_text\"].fillna(\"CVxTz\").values"
   ]
  },
  {
   "cell_type": "code",
   "execution_count": 4,
   "metadata": {},
   "outputs": [],
   "source": [
    "from nltk.sentiment.vader import SentimentIntensityAnalyzer\n",
    "sid = SentimentIntensityAnalyzer()"
   ]
  },
  {
   "cell_type": "code",
   "execution_count": 5,
   "metadata": {},
   "outputs": [
    {
     "data": {
      "text/plain": [
       "'yo bitch ja rule is more succesful then you will ever be whats up with you and hating you sad mofuckas i should bitch slap ur pethedic white faces and get you to kiss my ass you guys sicken me ja rule is about pride in da music man dont diss that shit on him and nothin is wrong bein like tupac he was a brother too fuckin white boys get things right next time'"
      ]
     },
     "execution_count": 5,
     "metadata": {},
     "output_type": "execute_result"
    }
   ],
   "source": [
    "list_sentences_test[0]"
   ]
  },
  {
   "cell_type": "code",
   "execution_count": 17,
   "metadata": {},
   "outputs": [
    {
     "data": {
      "text/plain": [
       "[0.243, 0.631, 0.126, -0.9228]"
      ]
     },
     "execution_count": 17,
     "metadata": {},
     "output_type": "execute_result"
    }
   ],
   "source": [
    "sid.polarity_scores(list_sentences_test[0]).values()"
   ]
  },
  {
   "cell_type": "code",
   "execution_count": 22,
   "metadata": {},
   "outputs": [
    {
     "name": "stderr",
     "output_type": "stream",
     "text": [
      "100%|██████████| 153164/153164 [01:54<00:00, 1332.57it/s]\n"
     ]
    }
   ],
   "source": [
    "test_vader = np.zeros((len(list_sentences_test), 4))\n",
    "\n",
    "for i in tqdm(range(len(list_sentences_test))):\n",
    "    test_vader[i] = sid.polarity_scores(list_sentences_test[i]).values()\n",
    "\n",
    "\n"
   ]
  },
  {
   "cell_type": "code",
   "execution_count": 23,
   "metadata": {},
   "outputs": [
    {
     "name": "stderr",
     "output_type": "stream",
     "text": [
      "100%|██████████| 159571/159571 [02:06<00:00, 1256.79it/s]\n"
     ]
    }
   ],
   "source": [
    "train_vader = np.zeros((len(list_sentences_train), 4))\n",
    "\n",
    "for i in tqdm(range(len(list_sentences_train))):\n",
    "    train_vader[i] = sid.polarity_scores(list_sentences_train[i]).values()"
   ]
  },
  {
   "cell_type": "code",
   "execution_count": 24,
   "metadata": {},
   "outputs": [
    {
     "data": {
      "text/plain": [
       "array([[ 0.    ,  0.901 ,  0.099 ,  0.5574],\n",
       "       [ 0.118 ,  0.71  ,  0.172 ,  0.2263],\n",
       "       [ 0.083 ,  0.849 ,  0.068 , -0.1779],\n",
       "       [ 0.059 ,  0.859 ,  0.082 ,  0.4019],\n",
       "       [ 0.    ,  0.663 ,  0.337 ,  0.6808],\n",
       "       [ 0.    ,  0.464 ,  0.536 ,  0.7964],\n",
       "       [ 0.531 ,  0.469 ,  0.    , -0.7783],\n",
       "       [ 0.123 ,  0.782 ,  0.095 , -0.1779],\n",
       "       [ 0.128 ,  0.844 ,  0.028 , -0.7684],\n",
       "       [ 0.    ,  1.    ,  0.    ,  0.    ]])"
      ]
     },
     "execution_count": 24,
     "metadata": {},
     "output_type": "execute_result"
    }
   ],
   "source": [
    "train_vader[0:10]\n"
   ]
  },
  {
   "cell_type": "code",
   "execution_count": 25,
   "metadata": {},
   "outputs": [
    {
     "data": {
      "text/plain": [
       "array([[0, 0, 0, 0, 0, 0],\n",
       "       [0, 0, 0, 0, 0, 0],\n",
       "       [0, 0, 0, 0, 0, 0],\n",
       "       [0, 0, 0, 0, 0, 0],\n",
       "       [0, 0, 0, 0, 0, 0],\n",
       "       [0, 0, 0, 0, 0, 0],\n",
       "       [1, 1, 1, 0, 1, 0],\n",
       "       [0, 0, 0, 0, 0, 0],\n",
       "       [0, 0, 0, 0, 0, 0],\n",
       "       [0, 0, 0, 0, 0, 0]])"
      ]
     },
     "execution_count": 25,
     "metadata": {},
     "output_type": "execute_result"
    }
   ],
   "source": [
    "y[0:10]"
   ]
  },
  {
   "cell_type": "code",
   "execution_count": 27,
   "metadata": {},
   "outputs": [],
   "source": [
    "pd.DataFrame(np.column_stack([train[\"id\"].values, train_vader])).to_csv(\"/home/ubuntu/kaggle/toxicity/team_ensembl/Florian/out/train_1803_FG_vader.csv\", header= False, index= False)\n",
    "pd.DataFrame(np.column_stack([test[\"id\"].values, test_vader])).to_csv(\"/home/ubuntu/kaggle/toxicity/team_ensembl/Florian/out/test_1803_FG_vader.csv\", header= False, index= False)   "
   ]
  },
  {
   "cell_type": "code",
   "execution_count": 28,
   "metadata": {},
   "outputs": [],
   "source": [
    "X_train, X_val, y_train, y_val = train_test_split(train_vader, y, test_size=0.33)"
   ]
  },
  {
   "cell_type": "code",
   "execution_count": 29,
   "metadata": {},
   "outputs": [],
   "source": [
    "class LR:\n",
    "    \n",
    "    def __init__(self):\n",
    "        self.models = []\n",
    "\n",
    "    def get_mdl(self, X, y):\n",
    "        m = LogisticRegression(C=10, dual=True)\n",
    "        return m.fit(X, y)\n",
    "    \n",
    "    def fit(self, X, y):\n",
    "        if len(y.shape)>1:\n",
    "            for i in range(y.shape[1]):\n",
    "                m = self.get_mdl(X, y[:,i])\n",
    "                self.models.append((m))\n",
    "        else:\n",
    "            m = self.get_mdl(X, y)\n",
    "            self.models.append((m))\n",
    "        \n",
    "    def predict(self, X):\n",
    "        preds = np.zeros((X.shape[0], len(self.models)))\n",
    "        for i in range(len(self.models)):\n",
    "            m = self.models[i]\n",
    "            preds[:,i] = m.predict_proba(X)[:,1]\n",
    "        return preds"
   ]
  },
  {
   "cell_type": "code",
   "execution_count": 30,
   "metadata": {},
   "outputs": [
    {
     "name": "stdout",
     "output_type": "stream",
     "text": [
      "0.8694636907508385\n"
     ]
    }
   ],
   "source": [
    "l = LogisticRegression(C=10, dual=True)\n",
    "lr = LR()\n",
    "lr.fit(X_train, y_train)\n",
    "pred = lr.predict(X_val)\n",
    "print(roc_auc_score(y_val, pred))"
   ]
  }
 ],
 "metadata": {
  "kernelspec": {
   "display_name": "Python [default]",
   "language": "python",
   "name": "python2"
  },
  "language_info": {
   "codemirror_mode": {
    "name": "ipython",
    "version": 2
   },
   "file_extension": ".py",
   "mimetype": "text/x-python",
   "name": "python",
   "nbconvert_exporter": "python",
   "pygments_lexer": "ipython2",
   "version": "2.7.14"
  }
 },
 "nbformat": 4,
 "nbformat_minor": 2
}
